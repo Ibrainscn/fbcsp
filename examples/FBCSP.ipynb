{
 "cells": [
  {
   "cell_type": "code",
   "execution_count": null,
   "metadata": {
    "nbsphinx": "hidden"
   },
   "outputs": [],
   "source": [
    "\n",
    "import logging\n",
    "import importlib\n",
    "importlib.reload(logging) # see https://stackoverflow.com/a/21475297/1469195\n",
    "log = logging.getLogger()\n",
    "log.setLevel('DEBUG')\n",
    "import sys\n",
    "logging.basicConfig(format='%(asctime)s %(levelname)s : %(message)s',\n",
    "                     level=logging.DEBUG, stream=sys.stdout)\n",
    "\n",
    "import os\n",
    "os.sys.path.append('/home/schirrmr/braindecode/code/fbcsp/')\n",
    "os.sys.path.append('/home/schirrmr/braindecode/code/braindecode/')\n",
    "\n",
    "%load_ext autoreload\n",
    "%autoreload 2\n",
    "%cd /home/schirrmr/\n",
    "\n",
    "import matplotlib\n",
    "%matplotlib inline\n",
    "%config InlineBackend.figure_format = 'svg' \n",
    "matplotlib.rcParams['figure.figsize'] = (12.0, 1.0)\n",
    "matplotlib.rcParams['font.size'] = 7\n",
    "\n",
    "import logging\n",
    "log = logging.getLogger()\n",
    "log.setLevel('DEBUG')"
   ]
  },
  {
   "cell_type": "code",
   "execution_count": null,
   "metadata": {},
   "outputs": [],
   "source": [
    "from braindecode.datasets.bbci import BBCIDataset\n",
    "set_loader = BBCIDataset('data/BBCI-only-last-runs/BhNoMoSc1S001R13_ds10_1-2BBCI.mat',\n",
    "                        load_sensor_names=['C3', 'C4', 'C1', 'C2', 'CPz', 'F3', 'F4', 'Fz'])\n",
    "cnt = set_loader.load()\n",
    "cnt = cnt.drop_channels(['STI 014'])\n",
    "eog_cnt = BBCIDataset('data/BBCI-only-last-runs/BhNoMoSc1S001R13_ds10_1-2BBCI.mat',\n",
    "                        load_sensor_names=['EOGh', 'EOGv']).load()\n",
    "eog_cnt = eog_cnt.drop_channels(['STI 014'])"
   ]
  },
  {
   "cell_type": "code",
   "execution_count": null,
   "metadata": {},
   "outputs": [],
   "source": [
    "from braindecode.mne_ext.signalproc import mne_apply\n",
    "from braindecode.datautil.signalproc import bandpass_cnt\n",
    "\n",
    "import numpy as np\n",
    "def car_cnt(cnt):\n",
    "    return mne_apply(lambda x: x - np.mean(x,axis=0, keepdims=True), cnt)\n",
    "\n",
    "cnt = car_cnt(cnt)\n",
    "cnt = mne_apply(lambda x: bandpass_cnt(x, 0.5,150.0, cnt.info['sfreq']), cnt)"
   ]
  },
  {
   "cell_type": "code",
   "execution_count": null,
   "metadata": {},
   "outputs": [],
   "source": [
    "from fbcsp.experiment import CSPExperiment\n",
    "from collections import OrderedDict\n",
    "name_to_start_codes = OrderedDict([('Right', 1), ('Left', 2), ('Rest',3)])\n",
    "epoch_ival_ms = [0,4000]"
   ]
  },
  {
   "cell_type": "code",
   "execution_count": null,
   "metadata": {},
   "outputs": [],
   "source": [
    "from fbcsp.clean import EOGMaxMinCleaner, VarCleaner, apply_multiple_cleaners\n",
    "\n",
    "\n",
    "cleaners = [EOGMaxMinCleaner(eog_cnt, epoch_ival_ms, name_to_start_codes, threshold=600),\n",
    "           VarCleaner(whisker_percent=10, whisker_length=3)]\n",
    "cleaned_cnt = apply_multiple_cleaners(cnt, epoch_ival_ms, name_to_start_codes, cleaners)"
   ]
  },
  {
   "cell_type": "code",
   "execution_count": null,
   "metadata": {
    "collapsed": true
   },
   "outputs": [],
   "source": [
    "exp = CSPExperiment(cleaned_cnt, name_to_start_codes, epoch_ival_ms,\n",
    "                    min_freq = 0,\n",
    "                    max_freq=144, last_low_freq=30,\n",
    "                    low_width=2,\n",
    "                    high_width=6,\n",
    "                    low_overlap=0,\n",
    "                    high_overlap=0,\n",
    "                    filt_order=3,\n",
    "                    n_folds=10,\n",
    "                    n_top_bottom_csp_filters=5,\n",
    "                    n_selected_filterbands=None,\n",
    "                    n_selected_features=20,\n",
    "                    forward_steps=2,\n",
    "                    backward_steps=1,)"
   ]
  },
  {
   "cell_type": "code",
   "execution_count": null,
   "metadata": {
    "collapsed": true
   },
   "outputs": [],
   "source": [
    "from braindecode.datautil.trial_segment import create_signal_target, create_signal_target_from_raw_mne\n",
    "\n",
    "from braindecode.datautil.signalproc import bandpass_cnt\n",
    "\n",
    "from braindecode.datautil.iterators import get_balanced_batches"
   ]
  },
  {
   "cell_type": "code",
   "execution_count": null,
   "metadata": {},
   "outputs": [],
   "source": [
    "exp.run()"
   ]
  }
 ],
 "metadata": {
  "celltoolbar": "Edit Metadata",
  "kernelspec": {
   "display_name": "Python 3",
   "language": "python",
   "name": "python3"
  },
  "language_info": {
   "codemirror_mode": {
    "name": "ipython",
    "version": 3
   },
   "file_extension": ".py",
   "mimetype": "text/x-python",
   "name": "python",
   "nbconvert_exporter": "python",
   "pygments_lexer": "ipython3",
   "version": "3.6.2"
  }
 },
 "nbformat": 4,
 "nbformat_minor": 2
}
